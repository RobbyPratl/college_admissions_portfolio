{
 "cells": [
  {
   "cell_type": "code",
   "execution_count": 1,
   "source": [
    "# This Python 3 environment comes with many helpful analytics libraries installed\n",
    "# It is defined by the kaggle/python Docker image: https://github.com/kaggle/docker-python\n",
    "# For example, here's several helpful packages to load\n",
    "\n",
    "import numpy as np # linear algebra\n",
    "import pandas as pd # data processing, CSV file I/O (e.g. pd.read_csv)\n",
    "import seaborn as sns\n",
    "import matplotlib.pyplot as plt\n",
    "from sklearn.preprocessing import LabelEncoder\n",
    "\n",
    "# Input data files are available in the read-only \"../input/\" directory\n",
    "# For example, running this (by clicking run or pressing Shift+Enter) will list all files under the input directory\n",
    "\n",
    "import os"
   ],
   "outputs": [
    {
     "output_type": "stream",
     "name": "stdout",
     "text": [
      "/kaggle/input/titanic/train.csv\n",
      "/kaggle/input/titanic/test.csv\n",
      "/kaggle/input/titanic/gender_submission.csv\n"
     ]
    }
   ],
   "metadata": {
    "_cell_guid": "b1076dfc-b9ad-4769-8c92-a6c4dae69d19",
    "_uuid": "8f2839f25d086af736a60e9eeb907d3b93b6e0e5",
    "execution": {
     "iopub.execute_input": "2022-01-09T20:17:52.613261Z",
     "iopub.status.busy": "2022-01-09T20:17:52.611967Z",
     "iopub.status.idle": "2022-01-09T20:17:53.786265Z",
     "shell.execute_reply": "2022-01-09T20:17:53.785480Z",
     "shell.execute_reply.started": "2022-01-09T20:07:49.141856Z"
    },
    "papermill": {
     "duration": 1.205616,
     "end_time": "2022-01-09T20:17:53.786430",
     "exception": false,
     "start_time": "2022-01-09T20:17:52.580814",
     "status": "completed"
    },
    "tags": []
   }
  },
  {
   "cell_type": "code",
   "execution_count": 2,
   "source": [
    "gender = pd.read_csv('titanic_data/gender_submission.csv')\n",
    "t_df = pd.read_csv('titanic_data/train.csv')\n",
    "test_df = pd.read_csv('titanic_data/test.csv')"
   ],
   "outputs": [],
   "metadata": {
    "execution": {
     "iopub.execute_input": "2022-01-09T20:17:53.844620Z",
     "iopub.status.busy": "2022-01-09T20:17:53.843829Z",
     "iopub.status.idle": "2022-01-09T20:17:53.881837Z",
     "shell.execute_reply": "2022-01-09T20:17:53.882548Z",
     "shell.execute_reply.started": "2022-01-09T20:07:50.266925Z"
    },
    "papermill": {
     "duration": 0.070203,
     "end_time": "2022-01-09T20:17:53.882730",
     "exception": false,
     "start_time": "2022-01-09T20:17:53.812527",
     "status": "completed"
    },
    "tags": []
   }
  },
  {
   "cell_type": "code",
   "execution_count": 3,
   "source": [
    "t_df.head()"
   ],
   "outputs": [
    {
     "output_type": "execute_result",
     "data": {
      "text/html": [
       "<div>\n",
       "<style scoped>\n",
       "    .dataframe tbody tr th:only-of-type {\n",
       "        vertical-align: middle;\n",
       "    }\n",
       "\n",
       "    .dataframe tbody tr th {\n",
       "        vertical-align: top;\n",
       "    }\n",
       "\n",
       "    .dataframe thead th {\n",
       "        text-align: right;\n",
       "    }\n",
       "</style>\n",
       "<table border=\"1\" class=\"dataframe\">\n",
       "  <thead>\n",
       "    <tr style=\"text-align: right;\">\n",
       "      <th></th>\n",
       "      <th>PassengerId</th>\n",
       "      <th>Survived</th>\n",
       "      <th>Pclass</th>\n",
       "      <th>Name</th>\n",
       "      <th>Sex</th>\n",
       "      <th>Age</th>\n",
       "      <th>SibSp</th>\n",
       "      <th>Parch</th>\n",
       "      <th>Ticket</th>\n",
       "      <th>Fare</th>\n",
       "      <th>Cabin</th>\n",
       "      <th>Embarked</th>\n",
       "    </tr>\n",
       "  </thead>\n",
       "  <tbody>\n",
       "    <tr>\n",
       "      <th>0</th>\n",
       "      <td>1</td>\n",
       "      <td>0</td>\n",
       "      <td>3</td>\n",
       "      <td>Braund, Mr. Owen Harris</td>\n",
       "      <td>male</td>\n",
       "      <td>22.0</td>\n",
       "      <td>1</td>\n",
       "      <td>0</td>\n",
       "      <td>A/5 21171</td>\n",
       "      <td>7.2500</td>\n",
       "      <td>NaN</td>\n",
       "      <td>S</td>\n",
       "    </tr>\n",
       "    <tr>\n",
       "      <th>1</th>\n",
       "      <td>2</td>\n",
       "      <td>1</td>\n",
       "      <td>1</td>\n",
       "      <td>Cumings, Mrs. John Bradley (Florence Briggs Th...</td>\n",
       "      <td>female</td>\n",
       "      <td>38.0</td>\n",
       "      <td>1</td>\n",
       "      <td>0</td>\n",
       "      <td>PC 17599</td>\n",
       "      <td>71.2833</td>\n",
       "      <td>C85</td>\n",
       "      <td>C</td>\n",
       "    </tr>\n",
       "    <tr>\n",
       "      <th>2</th>\n",
       "      <td>3</td>\n",
       "      <td>1</td>\n",
       "      <td>3</td>\n",
       "      <td>Heikkinen, Miss. Laina</td>\n",
       "      <td>female</td>\n",
       "      <td>26.0</td>\n",
       "      <td>0</td>\n",
       "      <td>0</td>\n",
       "      <td>STON/O2. 3101282</td>\n",
       "      <td>7.9250</td>\n",
       "      <td>NaN</td>\n",
       "      <td>S</td>\n",
       "    </tr>\n",
       "    <tr>\n",
       "      <th>3</th>\n",
       "      <td>4</td>\n",
       "      <td>1</td>\n",
       "      <td>1</td>\n",
       "      <td>Futrelle, Mrs. Jacques Heath (Lily May Peel)</td>\n",
       "      <td>female</td>\n",
       "      <td>35.0</td>\n",
       "      <td>1</td>\n",
       "      <td>0</td>\n",
       "      <td>113803</td>\n",
       "      <td>53.1000</td>\n",
       "      <td>C123</td>\n",
       "      <td>S</td>\n",
       "    </tr>\n",
       "    <tr>\n",
       "      <th>4</th>\n",
       "      <td>5</td>\n",
       "      <td>0</td>\n",
       "      <td>3</td>\n",
       "      <td>Allen, Mr. William Henry</td>\n",
       "      <td>male</td>\n",
       "      <td>35.0</td>\n",
       "      <td>0</td>\n",
       "      <td>0</td>\n",
       "      <td>373450</td>\n",
       "      <td>8.0500</td>\n",
       "      <td>NaN</td>\n",
       "      <td>S</td>\n",
       "    </tr>\n",
       "  </tbody>\n",
       "</table>\n",
       "</div>"
      ],
      "text/plain": [
       "   PassengerId  Survived  Pclass  \\\n",
       "0            1         0       3   \n",
       "1            2         1       1   \n",
       "2            3         1       3   \n",
       "3            4         1       1   \n",
       "4            5         0       3   \n",
       "\n",
       "                                                Name     Sex   Age  SibSp  \\\n",
       "0                            Braund, Mr. Owen Harris    male  22.0      1   \n",
       "1  Cumings, Mrs. John Bradley (Florence Briggs Th...  female  38.0      1   \n",
       "2                             Heikkinen, Miss. Laina  female  26.0      0   \n",
       "3       Futrelle, Mrs. Jacques Heath (Lily May Peel)  female  35.0      1   \n",
       "4                           Allen, Mr. William Henry    male  35.0      0   \n",
       "\n",
       "   Parch            Ticket     Fare Cabin Embarked  \n",
       "0      0         A/5 21171   7.2500   NaN        S  \n",
       "1      0          PC 17599  71.2833   C85        C  \n",
       "2      0  STON/O2. 3101282   7.9250   NaN        S  \n",
       "3      0            113803  53.1000  C123        S  \n",
       "4      0            373450   8.0500   NaN        S  "
      ]
     },
     "metadata": {},
     "execution_count": 3
    }
   ],
   "metadata": {
    "execution": {
     "iopub.execute_input": "2022-01-09T20:17:53.946089Z",
     "iopub.status.busy": "2022-01-09T20:17:53.945187Z",
     "iopub.status.idle": "2022-01-09T20:17:53.964207Z",
     "shell.execute_reply": "2022-01-09T20:17:53.964711Z",
     "shell.execute_reply.started": "2022-01-09T20:07:50.305964Z"
    },
    "papermill": {
     "duration": 0.054771,
     "end_time": "2022-01-09T20:17:53.964890",
     "exception": false,
     "start_time": "2022-01-09T20:17:53.910119",
     "status": "completed"
    },
    "tags": []
   }
  },
  {
   "cell_type": "code",
   "execution_count": 4,
   "source": [
    "t_df.isnull().sum()"
   ],
   "outputs": [
    {
     "output_type": "execute_result",
     "data": {
      "text/plain": [
       "PassengerId      0\n",
       "Survived         0\n",
       "Pclass           0\n",
       "Name             0\n",
       "Sex              0\n",
       "Age            177\n",
       "SibSp            0\n",
       "Parch            0\n",
       "Ticket           0\n",
       "Fare             0\n",
       "Cabin          687\n",
       "Embarked         2\n",
       "dtype: int64"
      ]
     },
     "metadata": {},
     "execution_count": 4
    }
   ],
   "metadata": {
    "execution": {
     "iopub.execute_input": "2022-01-09T20:17:54.022748Z",
     "iopub.status.busy": "2022-01-09T20:17:54.021734Z",
     "iopub.status.idle": "2022-01-09T20:17:54.030833Z",
     "shell.execute_reply": "2022-01-09T20:17:54.031460Z",
     "shell.execute_reply.started": "2022-01-09T20:07:50.334608Z"
    },
    "papermill": {
     "duration": 0.038959,
     "end_time": "2022-01-09T20:17:54.031632",
     "exception": false,
     "start_time": "2022-01-09T20:17:53.992673",
     "status": "completed"
    },
    "tags": []
   }
  },
  {
   "cell_type": "markdown",
   "source": [
    "Age, Cabin and Embarked seems to have rows with null values in them. We might need to populate those rows later on."
   ],
   "metadata": {
    "papermill": {
     "duration": 0.026737,
     "end_time": "2022-01-09T20:17:54.087151",
     "exception": false,
     "start_time": "2022-01-09T20:17:54.060414",
     "status": "completed"
    },
    "tags": []
   }
  },
  {
   "cell_type": "code",
   "execution_count": 5,
   "source": [
    "t_df.describe()"
   ],
   "outputs": [
    {
     "output_type": "execute_result",
     "data": {
      "text/html": [
       "<div>\n",
       "<style scoped>\n",
       "    .dataframe tbody tr th:only-of-type {\n",
       "        vertical-align: middle;\n",
       "    }\n",
       "\n",
       "    .dataframe tbody tr th {\n",
       "        vertical-align: top;\n",
       "    }\n",
       "\n",
       "    .dataframe thead th {\n",
       "        text-align: right;\n",
       "    }\n",
       "</style>\n",
       "<table border=\"1\" class=\"dataframe\">\n",
       "  <thead>\n",
       "    <tr style=\"text-align: right;\">\n",
       "      <th></th>\n",
       "      <th>PassengerId</th>\n",
       "      <th>Survived</th>\n",
       "      <th>Pclass</th>\n",
       "      <th>Age</th>\n",
       "      <th>SibSp</th>\n",
       "      <th>Parch</th>\n",
       "      <th>Fare</th>\n",
       "    </tr>\n",
       "  </thead>\n",
       "  <tbody>\n",
       "    <tr>\n",
       "      <th>count</th>\n",
       "      <td>891.000000</td>\n",
       "      <td>891.000000</td>\n",
       "      <td>891.000000</td>\n",
       "      <td>714.000000</td>\n",
       "      <td>891.000000</td>\n",
       "      <td>891.000000</td>\n",
       "      <td>891.000000</td>\n",
       "    </tr>\n",
       "    <tr>\n",
       "      <th>mean</th>\n",
       "      <td>446.000000</td>\n",
       "      <td>0.383838</td>\n",
       "      <td>2.308642</td>\n",
       "      <td>29.699118</td>\n",
       "      <td>0.523008</td>\n",
       "      <td>0.381594</td>\n",
       "      <td>32.204208</td>\n",
       "    </tr>\n",
       "    <tr>\n",
       "      <th>std</th>\n",
       "      <td>257.353842</td>\n",
       "      <td>0.486592</td>\n",
       "      <td>0.836071</td>\n",
       "      <td>14.526497</td>\n",
       "      <td>1.102743</td>\n",
       "      <td>0.806057</td>\n",
       "      <td>49.693429</td>\n",
       "    </tr>\n",
       "    <tr>\n",
       "      <th>min</th>\n",
       "      <td>1.000000</td>\n",
       "      <td>0.000000</td>\n",
       "      <td>1.000000</td>\n",
       "      <td>0.420000</td>\n",
       "      <td>0.000000</td>\n",
       "      <td>0.000000</td>\n",
       "      <td>0.000000</td>\n",
       "    </tr>\n",
       "    <tr>\n",
       "      <th>25%</th>\n",
       "      <td>223.500000</td>\n",
       "      <td>0.000000</td>\n",
       "      <td>2.000000</td>\n",
       "      <td>20.125000</td>\n",
       "      <td>0.000000</td>\n",
       "      <td>0.000000</td>\n",
       "      <td>7.910400</td>\n",
       "    </tr>\n",
       "    <tr>\n",
       "      <th>50%</th>\n",
       "      <td>446.000000</td>\n",
       "      <td>0.000000</td>\n",
       "      <td>3.000000</td>\n",
       "      <td>28.000000</td>\n",
       "      <td>0.000000</td>\n",
       "      <td>0.000000</td>\n",
       "      <td>14.454200</td>\n",
       "    </tr>\n",
       "    <tr>\n",
       "      <th>75%</th>\n",
       "      <td>668.500000</td>\n",
       "      <td>1.000000</td>\n",
       "      <td>3.000000</td>\n",
       "      <td>38.000000</td>\n",
       "      <td>1.000000</td>\n",
       "      <td>0.000000</td>\n",
       "      <td>31.000000</td>\n",
       "    </tr>\n",
       "    <tr>\n",
       "      <th>max</th>\n",
       "      <td>891.000000</td>\n",
       "      <td>1.000000</td>\n",
       "      <td>3.000000</td>\n",
       "      <td>80.000000</td>\n",
       "      <td>8.000000</td>\n",
       "      <td>6.000000</td>\n",
       "      <td>512.329200</td>\n",
       "    </tr>\n",
       "  </tbody>\n",
       "</table>\n",
       "</div>"
      ],
      "text/plain": [
       "       PassengerId    Survived      Pclass         Age       SibSp  \\\n",
       "count   891.000000  891.000000  891.000000  714.000000  891.000000   \n",
       "mean    446.000000    0.383838    2.308642   29.699118    0.523008   \n",
       "std     257.353842    0.486592    0.836071   14.526497    1.102743   \n",
       "min       1.000000    0.000000    1.000000    0.420000    0.000000   \n",
       "25%     223.500000    0.000000    2.000000   20.125000    0.000000   \n",
       "50%     446.000000    0.000000    3.000000   28.000000    0.000000   \n",
       "75%     668.500000    1.000000    3.000000   38.000000    1.000000   \n",
       "max     891.000000    1.000000    3.000000   80.000000    8.000000   \n",
       "\n",
       "            Parch        Fare  \n",
       "count  891.000000  891.000000  \n",
       "mean     0.381594   32.204208  \n",
       "std      0.806057   49.693429  \n",
       "min      0.000000    0.000000  \n",
       "25%      0.000000    7.910400  \n",
       "50%      0.000000   14.454200  \n",
       "75%      0.000000   31.000000  \n",
       "max      6.000000  512.329200  "
      ]
     },
     "metadata": {},
     "execution_count": 5
    }
   ],
   "metadata": {
    "execution": {
     "iopub.execute_input": "2022-01-09T20:17:54.143902Z",
     "iopub.status.busy": "2022-01-09T20:17:54.142911Z",
     "iopub.status.idle": "2022-01-09T20:17:54.185110Z",
     "shell.execute_reply": "2022-01-09T20:17:54.185669Z",
     "shell.execute_reply.started": "2022-01-09T20:07:50.343452Z"
    },
    "papermill": {
     "duration": 0.072104,
     "end_time": "2022-01-09T20:17:54.185841",
     "exception": false,
     "start_time": "2022-01-09T20:17:54.113737",
     "status": "completed"
    },
    "tags": []
   }
  },
  {
   "cell_type": "code",
   "execution_count": 6,
   "source": [
    "t_df.drop('Fare', inplace=True, axis=1)\n",
    "t_df.drop('Parch', inplace=True, axis=1)\n",
    "t_df.drop('SibSp', inplace=True, axis=1)\n",
    "t_df.describe()"
   ],
   "outputs": [
    {
     "output_type": "execute_result",
     "data": {
      "text/html": [
       "<div>\n",
       "<style scoped>\n",
       "    .dataframe tbody tr th:only-of-type {\n",
       "        vertical-align: middle;\n",
       "    }\n",
       "\n",
       "    .dataframe tbody tr th {\n",
       "        vertical-align: top;\n",
       "    }\n",
       "\n",
       "    .dataframe thead th {\n",
       "        text-align: right;\n",
       "    }\n",
       "</style>\n",
       "<table border=\"1\" class=\"dataframe\">\n",
       "  <thead>\n",
       "    <tr style=\"text-align: right;\">\n",
       "      <th></th>\n",
       "      <th>PassengerId</th>\n",
       "      <th>Survived</th>\n",
       "      <th>Pclass</th>\n",
       "      <th>Age</th>\n",
       "    </tr>\n",
       "  </thead>\n",
       "  <tbody>\n",
       "    <tr>\n",
       "      <th>count</th>\n",
       "      <td>891.000000</td>\n",
       "      <td>891.000000</td>\n",
       "      <td>891.000000</td>\n",
       "      <td>714.000000</td>\n",
       "    </tr>\n",
       "    <tr>\n",
       "      <th>mean</th>\n",
       "      <td>446.000000</td>\n",
       "      <td>0.383838</td>\n",
       "      <td>2.308642</td>\n",
       "      <td>29.699118</td>\n",
       "    </tr>\n",
       "    <tr>\n",
       "      <th>std</th>\n",
       "      <td>257.353842</td>\n",
       "      <td>0.486592</td>\n",
       "      <td>0.836071</td>\n",
       "      <td>14.526497</td>\n",
       "    </tr>\n",
       "    <tr>\n",
       "      <th>min</th>\n",
       "      <td>1.000000</td>\n",
       "      <td>0.000000</td>\n",
       "      <td>1.000000</td>\n",
       "      <td>0.420000</td>\n",
       "    </tr>\n",
       "    <tr>\n",
       "      <th>25%</th>\n",
       "      <td>223.500000</td>\n",
       "      <td>0.000000</td>\n",
       "      <td>2.000000</td>\n",
       "      <td>20.125000</td>\n",
       "    </tr>\n",
       "    <tr>\n",
       "      <th>50%</th>\n",
       "      <td>446.000000</td>\n",
       "      <td>0.000000</td>\n",
       "      <td>3.000000</td>\n",
       "      <td>28.000000</td>\n",
       "    </tr>\n",
       "    <tr>\n",
       "      <th>75%</th>\n",
       "      <td>668.500000</td>\n",
       "      <td>1.000000</td>\n",
       "      <td>3.000000</td>\n",
       "      <td>38.000000</td>\n",
       "    </tr>\n",
       "    <tr>\n",
       "      <th>max</th>\n",
       "      <td>891.000000</td>\n",
       "      <td>1.000000</td>\n",
       "      <td>3.000000</td>\n",
       "      <td>80.000000</td>\n",
       "    </tr>\n",
       "  </tbody>\n",
       "</table>\n",
       "</div>"
      ],
      "text/plain": [
       "       PassengerId    Survived      Pclass         Age\n",
       "count   891.000000  891.000000  891.000000  714.000000\n",
       "mean    446.000000    0.383838    2.308642   29.699118\n",
       "std     257.353842    0.486592    0.836071   14.526497\n",
       "min       1.000000    0.000000    1.000000    0.420000\n",
       "25%     223.500000    0.000000    2.000000   20.125000\n",
       "50%     446.000000    0.000000    3.000000   28.000000\n",
       "75%     668.500000    1.000000    3.000000   38.000000\n",
       "max     891.000000    1.000000    3.000000   80.000000"
      ]
     },
     "metadata": {},
     "execution_count": 6
    }
   ],
   "metadata": {
    "execution": {
     "iopub.execute_input": "2022-01-09T20:17:54.243498Z",
     "iopub.status.busy": "2022-01-09T20:17:54.242435Z",
     "iopub.status.idle": "2022-01-09T20:17:54.266337Z",
     "shell.execute_reply": "2022-01-09T20:17:54.266884Z",
     "shell.execute_reply.started": "2022-01-09T20:07:50.392261Z"
    },
    "papermill": {
     "duration": 0.054412,
     "end_time": "2022-01-09T20:17:54.267067",
     "exception": false,
     "start_time": "2022-01-09T20:17:54.212655",
     "status": "completed"
    },
    "tags": []
   }
  },
  {
   "cell_type": "code",
   "execution_count": 7,
   "source": [
    "gender.head()\n",
    "gender['Survived'].value_counts()"
   ],
   "outputs": [
    {
     "output_type": "execute_result",
     "data": {
      "text/plain": [
       "0    266\n",
       "1    152\n",
       "Name: Survived, dtype: int64"
      ]
     },
     "metadata": {},
     "execution_count": 7
    }
   ],
   "metadata": {
    "execution": {
     "iopub.execute_input": "2022-01-09T20:17:54.326439Z",
     "iopub.status.busy": "2022-01-09T20:17:54.325482Z",
     "iopub.status.idle": "2022-01-09T20:17:54.333072Z",
     "shell.execute_reply": "2022-01-09T20:17:54.333671Z",
     "shell.execute_reply.started": "2022-01-09T20:07:50.420283Z"
    },
    "papermill": {
     "duration": 0.038359,
     "end_time": "2022-01-09T20:17:54.333841",
     "exception": false,
     "start_time": "2022-01-09T20:17:54.295482",
     "status": "completed"
    },
    "tags": []
   }
  },
  {
   "cell_type": "markdown",
   "source": [
    "Now that we know how many females(266) and how many males(152) have survived, let's see if we can leverage the information to reach a conclusion."
   ],
   "metadata": {
    "papermill": {
     "duration": 0.027273,
     "end_time": "2022-01-09T20:17:54.388716",
     "exception": false,
     "start_time": "2022-01-09T20:17:54.361443",
     "status": "completed"
    },
    "tags": []
   }
  },
  {
   "cell_type": "code",
   "execution_count": 8,
   "source": [
    "axis = sns.countplot(x='Survived', data=gender)\n",
    "axis.bar_label(axis.containers[0])\n",
    "plt.show()"
   ],
   "outputs": [
    {
     "output_type": "display_data",
     "data": {
      "image/png": "[encoded data removed]",
      "text/plain": [
       "<Figure size 432x288 with 1 Axes>"
      ]
     },
     "metadata": {
      "needs_background": "light"
     }
    }
   ],
   "metadata": {
    "execution": {
     "iopub.execute_input": "2022-01-09T20:17:54.448375Z",
     "iopub.status.busy": "2022-01-09T20:17:54.447377Z",
     "iopub.status.idle": "2022-01-09T20:17:54.604417Z",
     "shell.execute_reply": "2022-01-09T20:17:54.605363Z",
     "shell.execute_reply.started": "2022-01-09T20:07:50.429664Z"
    },
    "papermill": {
     "duration": 0.189577,
     "end_time": "2022-01-09T20:17:54.605705",
     "exception": false,
     "start_time": "2022-01-09T20:17:54.416128",
     "status": "completed"
    },
    "tags": []
   }
  },
  {
   "cell_type": "code",
   "execution_count": 9,
   "source": [
    "t_df.nunique()"
   ],
   "outputs": [
    {
     "output_type": "execute_result",
     "data": {
      "text/plain": [
       "PassengerId    891\n",
       "Survived         2\n",
       "Pclass           3\n",
       "Name           891\n",
       "Sex              2\n",
       "Age             88\n",
       "Ticket         681\n",
       "Cabin          147\n",
       "Embarked         3\n",
       "dtype: int64"
      ]
     },
     "metadata": {},
     "execution_count": 9
    }
   ],
   "metadata": {
    "execution": {
     "iopub.execute_input": "2022-01-09T20:17:54.671112Z",
     "iopub.status.busy": "2022-01-09T20:17:54.669946Z",
     "iopub.status.idle": "2022-01-09T20:17:54.681969Z",
     "shell.execute_reply": "2022-01-09T20:17:54.681418Z",
     "shell.execute_reply.started": "2022-01-09T20:07:50.636274Z"
    },
    "papermill": {
     "duration": 0.045479,
     "end_time": "2022-01-09T20:17:54.682111",
     "exception": false,
     "start_time": "2022-01-09T20:17:54.636632",
     "status": "completed"
    },
    "tags": []
   }
  },
  {
   "cell_type": "code",
   "execution_count": 10,
   "source": [
    "t_df['Pclass'].value_counts()"
   ],
   "outputs": [
    {
     "output_type": "execute_result",
     "data": {
      "text/plain": [
       "3    491\n",
       "1    216\n",
       "2    184\n",
       "Name: Pclass, dtype: int64"
      ]
     },
     "metadata": {},
     "execution_count": 10
    }
   ],
   "metadata": {
    "execution": {
     "iopub.execute_input": "2022-01-09T20:17:54.749002Z",
     "iopub.status.busy": "2022-01-09T20:17:54.748151Z",
     "iopub.status.idle": "2022-01-09T20:17:54.751430Z",
     "shell.execute_reply": "2022-01-09T20:17:54.751928Z",
     "shell.execute_reply.started": "2022-01-09T20:07:50.652840Z"
    },
    "papermill": {
     "duration": 0.039976,
     "end_time": "2022-01-09T20:17:54.752120",
     "exception": false,
     "start_time": "2022-01-09T20:17:54.712144",
     "status": "completed"
    },
    "tags": []
   }
  },
  {
   "cell_type": "markdown",
   "source": [
    "216 1st class passengers, 184 2nd class passengers, 491 3rd class passengers"
   ],
   "metadata": {
    "papermill": {
     "duration": 0.028465,
     "end_time": "2022-01-09T20:17:54.809426",
     "exception": false,
     "start_time": "2022-01-09T20:17:54.780961",
     "status": "completed"
    },
    "tags": []
   }
  },
  {
   "cell_type": "code",
   "execution_count": 11,
   "source": [
    "t_df['Survived'].value_counts()"
   ],
   "outputs": [
    {
     "output_type": "execute_result",
     "data": {
      "text/plain": [
       "0    549\n",
       "1    342\n",
       "Name: Survived, dtype: int64"
      ]
     },
     "metadata": {},
     "execution_count": 11
    }
   ],
   "metadata": {
    "execution": {
     "iopub.execute_input": "2022-01-09T20:17:54.872459Z",
     "iopub.status.busy": "2022-01-09T20:17:54.871415Z",
     "iopub.status.idle": "2022-01-09T20:17:54.879024Z",
     "shell.execute_reply": "2022-01-09T20:17:54.879715Z",
     "shell.execute_reply.started": "2022-01-09T20:07:50.661673Z"
    },
    "papermill": {
     "duration": 0.041794,
     "end_time": "2022-01-09T20:17:54.879900",
     "exception": false,
     "start_time": "2022-01-09T20:17:54.838106",
     "status": "completed"
    },
    "tags": []
   }
  },
  {
   "cell_type": "markdown",
   "source": [
    "342 passengers survived while 549 passengers died"
   ],
   "metadata": {
    "papermill": {
     "duration": 0.029471,
     "end_time": "2022-01-09T20:17:54.939588",
     "exception": false,
     "start_time": "2022-01-09T20:17:54.910117",
     "status": "completed"
    },
    "tags": []
   }
  },
  {
   "cell_type": "code",
   "execution_count": 12,
   "source": [
    "#Replacing the null values with relevant ones\n",
    "def clean(dt_):\n",
    "    dt_['Age'] = dt_['Age'].replace(np.NaN, dt_['Age'].mean())\n",
    "    dt_['Embarked'] = t_df['Embarked'].fillna(method='ffill')\n",
    "    \n",
    "    return dt_\n",
    "\n",
    "\n",
    "t_df = clean(t_df)\n",
    "test_df = clean(test_df)\n",
    "\n",
    "t_df.head()"
   ],
   "outputs": [
    {
     "output_type": "execute_result",
     "data": {
      "text/html": [
       "<div>\n",
       "<style scoped>\n",
       "    .dataframe tbody tr th:only-of-type {\n",
       "        vertical-align: middle;\n",
       "    }\n",
       "\n",
       "    .dataframe tbody tr th {\n",
       "        vertical-align: top;\n",
       "    }\n",
       "\n",
       "    .dataframe thead th {\n",
       "        text-align: right;\n",
       "    }\n",
       "</style>\n",
       "<table border=\"1\" class=\"dataframe\">\n",
       "  <thead>\n",
       "    <tr style=\"text-align: right;\">\n",
       "      <th></th>\n",
       "      <th>PassengerId</th>\n",
       "      <th>Survived</th>\n",
       "      <th>Pclass</th>\n",
       "      <th>Name</th>\n",
       "      <th>Sex</th>\n",
       "      <th>Age</th>\n",
       "      <th>Ticket</th>\n",
       "      <th>Cabin</th>\n",
       "      <th>Embarked</th>\n",
       "    </tr>\n",
       "  </thead>\n",
       "  <tbody>\n",
       "    <tr>\n",
       "      <th>0</th>\n",
       "      <td>1</td>\n",
       "      <td>0</td>\n",
       "      <td>3</td>\n",
       "      <td>Braund, Mr. Owen Harris</td>\n",
       "      <td>male</td>\n",
       "      <td>22.0</td>\n",
       "      <td>A/5 21171</td>\n",
       "      <td>NaN</td>\n",
       "      <td>S</td>\n",
       "    </tr>\n",
       "    <tr>\n",
       "      <th>1</th>\n",
       "      <td>2</td>\n",
       "      <td>1</td>\n",
       "      <td>1</td>\n",
       "      <td>Cumings, Mrs. John Bradley (Florence Briggs Th...</td>\n",
       "      <td>female</td>\n",
       "      <td>38.0</td>\n",
       "      <td>PC 17599</td>\n",
       "      <td>C85</td>\n",
       "      <td>C</td>\n",
       "    </tr>\n",
       "    <tr>\n",
       "      <th>2</th>\n",
       "      <td>3</td>\n",
       "      <td>1</td>\n",
       "      <td>3</td>\n",
       "      <td>Heikkinen, Miss. Laina</td>\n",
       "      <td>female</td>\n",
       "      <td>26.0</td>\n",
       "      <td>STON/O2. 3101282</td>\n",
       "      <td>NaN</td>\n",
       "      <td>S</td>\n",
       "    </tr>\n",
       "    <tr>\n",
       "      <th>3</th>\n",
       "      <td>4</td>\n",
       "      <td>1</td>\n",
       "      <td>1</td>\n",
       "      <td>Futrelle, Mrs. Jacques Heath (Lily May Peel)</td>\n",
       "      <td>female</td>\n",
       "      <td>35.0</td>\n",
       "      <td>113803</td>\n",
       "      <td>C123</td>\n",
       "      <td>S</td>\n",
       "    </tr>\n",
       "    <tr>\n",
       "      <th>4</th>\n",
       "      <td>5</td>\n",
       "      <td>0</td>\n",
       "      <td>3</td>\n",
       "      <td>Allen, Mr. William Henry</td>\n",
       "      <td>male</td>\n",
       "      <td>35.0</td>\n",
       "      <td>373450</td>\n",
       "      <td>NaN</td>\n",
       "      <td>S</td>\n",
       "    </tr>\n",
       "  </tbody>\n",
       "</table>\n",
       "</div>"
      ],
      "text/plain": [
       "   PassengerId  Survived  Pclass  \\\n",
       "0            1         0       3   \n",
       "1            2         1       1   \n",
       "2            3         1       3   \n",
       "3            4         1       1   \n",
       "4            5         0       3   \n",
       "\n",
       "                                                Name     Sex   Age  \\\n",
       "0                            Braund, Mr. Owen Harris    male  22.0   \n",
       "1  Cumings, Mrs. John Bradley (Florence Briggs Th...  female  38.0   \n",
       "2                             Heikkinen, Miss. Laina  female  26.0   \n",
       "3       Futrelle, Mrs. Jacques Heath (Lily May Peel)  female  35.0   \n",
       "4                           Allen, Mr. William Henry    male  35.0   \n",
       "\n",
       "             Ticket Cabin Embarked  \n",
       "0         A/5 21171   NaN        S  \n",
       "1          PC 17599   C85        C  \n",
       "2  STON/O2. 3101282   NaN        S  \n",
       "3            113803  C123        S  \n",
       "4            373450   NaN        S  "
      ]
     },
     "metadata": {},
     "execution_count": 12
    }
   ],
   "metadata": {
    "execution": {
     "iopub.execute_input": "2022-01-09T20:17:55.003610Z",
     "iopub.status.busy": "2022-01-09T20:17:55.002643Z",
     "iopub.status.idle": "2022-01-09T20:17:55.024801Z",
     "shell.execute_reply": "2022-01-09T20:17:55.025289Z",
     "shell.execute_reply.started": "2022-01-09T20:07:50.672798Z"
    },
    "papermill": {
     "duration": 0.055256,
     "end_time": "2022-01-09T20:17:55.025467",
     "exception": false,
     "start_time": "2022-01-09T20:17:54.970211",
     "status": "completed"
    },
    "tags": []
   }
  },
  {
   "cell_type": "code",
   "execution_count": 13,
   "source": [
    "t_df.isnull().sum()\n",
    "t_df.drop('Cabin', inplace=True, axis=1)"
   ],
   "outputs": [],
   "metadata": {
    "execution": {
     "iopub.execute_input": "2022-01-09T20:17:55.095732Z",
     "iopub.status.busy": "2022-01-09T20:17:55.094064Z",
     "iopub.status.idle": "2022-01-09T20:17:55.098787Z",
     "shell.execute_reply": "2022-01-09T20:17:55.099377Z",
     "shell.execute_reply.started": "2022-01-09T20:07:50.700003Z"
    },
    "papermill": {
     "duration": 0.042714,
     "end_time": "2022-01-09T20:17:55.099558",
     "exception": false,
     "start_time": "2022-01-09T20:17:55.056844",
     "status": "completed"
    },
    "tags": []
   }
  },
  {
   "cell_type": "code",
   "execution_count": 14,
   "source": [
    "test_df.drop('Cabin', inplace=True, axis=1)\n",
    "test_df.drop('Fare', inplace=True, axis=1)\n",
    "test_df.drop('Parch', inplace=True, axis=1)\n",
    "test_df.drop('SibSp', inplace=True, axis=1)"
   ],
   "outputs": [],
   "metadata": {
    "execution": {
     "iopub.execute_input": "2022-01-09T20:17:55.165472Z",
     "iopub.status.busy": "2022-01-09T20:17:55.164650Z",
     "iopub.status.idle": "2022-01-09T20:17:55.172704Z",
     "shell.execute_reply": "2022-01-09T20:17:55.173215Z",
     "shell.execute_reply.started": "2022-01-09T20:07:50.708785Z"
    },
    "papermill": {
     "duration": 0.042599,
     "end_time": "2022-01-09T20:17:55.173397",
     "exception": false,
     "start_time": "2022-01-09T20:17:55.130798",
     "status": "completed"
    },
    "tags": []
   }
  },
  {
   "cell_type": "code",
   "execution_count": 15,
   "source": [
    "t_df.describe(), test_df.describe()"
   ],
   "outputs": [
    {
     "output_type": "execute_result",
     "data": {
      "text/plain": [
       "(       PassengerId    Survived      Pclass         Age\n",
       " count   891.000000  891.000000  891.000000  891.000000\n",
       " mean    446.000000    0.383838    2.308642   29.699118\n",
       " std     257.353842    0.486592    0.836071   13.002015\n",
       " min       1.000000    0.000000    1.000000    0.420000\n",
       " 25%     223.500000    0.000000    2.000000   22.000000\n",
       " 50%     446.000000    0.000000    3.000000   29.699118\n",
       " 75%     668.500000    1.000000    3.000000   35.000000\n",
       " max     891.000000    1.000000    3.000000   80.000000,\n",
       "        PassengerId      Pclass         Age\n",
       " count   418.000000  418.000000  418.000000\n",
       " mean   1100.500000    2.265550   30.272590\n",
       " std     120.810458    0.841838   12.634534\n",
       " min     892.000000    1.000000    0.170000\n",
       " 25%     996.250000    1.000000   23.000000\n",
       " 50%    1100.500000    3.000000   30.272590\n",
       " 75%    1204.750000    3.000000   35.750000\n",
       " max    1309.000000    3.000000   76.000000)"
      ]
     },
     "metadata": {},
     "execution_count": 15
    }
   ],
   "metadata": {
    "execution": {
     "iopub.execute_input": "2022-01-09T20:17:55.241079Z",
     "iopub.status.busy": "2022-01-09T20:17:55.240302Z",
     "iopub.status.idle": "2022-01-09T20:17:55.270361Z",
     "shell.execute_reply": "2022-01-09T20:17:55.269701Z",
     "shell.execute_reply.started": "2022-01-09T20:07:50.729862Z"
    },
    "papermill": {
     "duration": 0.065194,
     "end_time": "2022-01-09T20:17:55.270514",
     "exception": false,
     "start_time": "2022-01-09T20:17:55.205320",
     "status": "completed"
    },
    "tags": []
   }
  },
  {
   "cell_type": "code",
   "execution_count": 16,
   "source": [
    "def label(dt_):\n",
    "    labelencoder= LabelEncoder()\n",
    "    \n",
    "    dt_['Sex']=labelencoder.fit_transform(dt_['Sex'])\n",
    "    dt_['Embarked']=labelencoder.fit_transform(dt_['Embarked'])\n",
    "    \n",
    "    return dt_\n",
    "\n",
    "t_df=label(t_df)\n",
    "test_df=label(test_df)\n",
    "\n",
    "t_df.head(), test_df.head()"
   ],
   "outputs": [
    {
     "output_type": "execute_result",
     "data": {
      "text/plain": [
       "(   PassengerId  Survived  Pclass  \\\n",
       " 0            1         0       3   \n",
       " 1            2         1       1   \n",
       " 2            3         1       3   \n",
       " 3            4         1       1   \n",
       " 4            5         0       3   \n",
       " \n",
       "                                                 Name  Sex   Age  \\\n",
       " 0                            Braund, Mr. Owen Harris    1  22.0   \n",
       " 1  Cumings, Mrs. John Bradley (Florence Briggs Th...    0  38.0   \n",
       " 2                             Heikkinen, Miss. Laina    0  26.0   \n",
       " 3       Futrelle, Mrs. Jacques Heath (Lily May Peel)    0  35.0   \n",
       " 4                           Allen, Mr. William Henry    1  35.0   \n",
       " \n",
       "              Ticket  Embarked  \n",
       " 0         A/5 21171         2  \n",
       " 1          PC 17599         0  \n",
       " 2  STON/O2. 3101282         2  \n",
       " 3            113803         2  \n",
       " 4            373450         2  ,\n",
       "    PassengerId  Pclass                                          Name  Sex  \\\n",
       " 0          892       3                              Kelly, Mr. James    1   \n",
       " 1          893       3              Wilkes, Mrs. James (Ellen Needs)    0   \n",
       " 2          894       2                     Myles, Mr. Thomas Francis    1   \n",
       " 3          895       3                              Wirz, Mr. Albert    1   \n",
       " 4          896       3  Hirvonen, Mrs. Alexander (Helga E Lindqvist)    0   \n",
       " \n",
       "     Age   Ticket  Embarked  \n",
       " 0  34.5   330911         2  \n",
       " 1  47.0   363272         0  \n",
       " 2  62.0   240276         2  \n",
       " 3  27.0   315154         2  \n",
       " 4  22.0  3101298         2  )"
      ]
     },
     "metadata": {},
     "execution_count": 16
    }
   ],
   "metadata": {
    "execution": {
     "iopub.execute_input": "2022-01-09T20:17:55.350138Z",
     "iopub.status.busy": "2022-01-09T20:17:55.349123Z",
     "iopub.status.idle": "2022-01-09T20:17:55.353669Z",
     "shell.execute_reply": "2022-01-09T20:17:55.353018Z",
     "shell.execute_reply.started": "2022-01-09T20:07:50.763928Z"
    },
    "papermill": {
     "duration": 0.052805,
     "end_time": "2022-01-09T20:17:55.353825",
     "exception": false,
     "start_time": "2022-01-09T20:17:55.301020",
     "status": "completed"
    },
    "tags": []
   }
  },
  {
   "cell_type": "markdown",
   "source": [
    "# Data Visualization"
   ],
   "metadata": {
    "papermill": {
     "duration": 0.030351,
     "end_time": "2022-01-09T20:17:55.415242",
     "exception": false,
     "start_time": "2022-01-09T20:17:55.384891",
     "status": "completed"
    },
    "tags": []
   }
  },
  {
   "cell_type": "code",
   "execution_count": 17,
   "source": [
    "sns.swarmplot(x=t_df['Survived'], y=t_df['Age'])\n",
    "plt.title('Age vs. Survival Plot')\n",
    "plt.show()"
   ],
   "outputs": [
    {
     "output_type": "stream",
     "name": "stderr",
     "text": [
      "/opt/conda/lib/python3.7/site-packages/seaborn/categorical.py:1296: UserWarning: 29.3% of the points cannot be placed; you may want to decrease the size of the markers or use stripplot.\n",
      "  warnings.warn(msg, UserWarning)\n",
      "/opt/conda/lib/python3.7/site-packages/seaborn/categorical.py:1296: UserWarning: 13.2% of the points cannot be placed; you may want to decrease the size of the markers or use stripplot.\n",
      "  warnings.warn(msg, UserWarning)\n"
     ]
    },
    {
     "output_type": "display_data",
     "data": {
      "image/png": "[encoded data removed]",
      "text/plain": [
       "<Figure size 432x288 with 1 Axes>"
      ]
     },
     "metadata": {
      "needs_background": "light"
     }
    }
   ],
   "metadata": {
    "execution": {
     "iopub.execute_input": "2022-01-09T20:17:55.483041Z",
     "iopub.status.busy": "2022-01-09T20:17:55.482358Z",
     "iopub.status.idle": "2022-01-09T20:17:57.359875Z",
     "shell.execute_reply": "2022-01-09T20:17:57.360412Z",
     "shell.execute_reply.started": "2022-01-09T20:07:50.788846Z"
    },
    "papermill": {
     "duration": 1.912771,
     "end_time": "2022-01-09T20:17:57.360605",
     "exception": false,
     "start_time": "2022-01-09T20:17:55.447834",
     "status": "completed"
    },
    "tags": []
   }
  },
  {
   "cell_type": "markdown",
   "source": [
    "According to the visulization most people died from the tragedy and the number of people who died is significant within the age range 18-32 years."
   ],
   "metadata": {
    "papermill": {
     "duration": 0.033357,
     "end_time": "2022-01-09T20:17:57.427284",
     "exception": false,
     "start_time": "2022-01-09T20:17:57.393927",
     "status": "completed"
    },
    "tags": []
   }
  },
  {
   "cell_type": "code",
   "execution_count": 18,
   "source": [
    "sns.FacetGrid(t_df, col='Pclass', row='Survived').map(sns.distplot, 'Age', bins=5)\n",
    "plt.show()"
   ],
   "outputs": [
    {
     "output_type": "stream",
     "name": "stderr",
     "text": [
      "/opt/conda/lib/python3.7/site-packages/seaborn/distributions.py:2619: FutureWarning: `distplot` is a deprecated function and will be removed in a future version. Please adapt your code to use either `displot` (a figure-level function with similar flexibility) or `histplot` (an axes-level function for histograms).\n",
      "  warnings.warn(msg, FutureWarning)\n",
      "/opt/conda/lib/python3.7/site-packages/seaborn/distributions.py:2619: FutureWarning: `distplot` is a deprecated function and will be removed in a future version. Please adapt your code to use either `displot` (a figure-level function with similar flexibility) or `histplot` (an axes-level function for histograms).\n",
      "  warnings.warn(msg, FutureWarning)\n",
      "/opt/conda/lib/python3.7/site-packages/seaborn/distributions.py:2619: FutureWarning: `distplot` is a deprecated function and will be removed in a future version. Please adapt your code to use either `displot` (a figure-level function with similar flexibility) or `histplot` (an axes-level function for histograms).\n",
      "  warnings.warn(msg, FutureWarning)\n",
      "/opt/conda/lib/python3.7/site-packages/seaborn/distributions.py:2619: FutureWarning: `distplot` is a deprecated function and will be removed in a future version. Please adapt your code to use either `displot` (a figure-level function with similar flexibility) or `histplot` (an axes-level function for histograms).\n",
      "  warnings.warn(msg, FutureWarning)\n",
      "/opt/conda/lib/python3.7/site-packages/seaborn/distributions.py:2619: FutureWarning: `distplot` is a deprecated function and will be removed in a future version. Please adapt your code to use either `displot` (a figure-level function with similar flexibility) or `histplot` (an axes-level function for histograms).\n",
      "  warnings.warn(msg, FutureWarning)\n",
      "/opt/conda/lib/python3.7/site-packages/seaborn/distributions.py:2619: FutureWarning: `distplot` is a deprecated function and will be removed in a future version. Please adapt your code to use either `displot` (a figure-level function with similar flexibility) or `histplot` (an axes-level function for histograms).\n",
      "  warnings.warn(msg, FutureWarning)\n"
     ]
    },
    {
     "output_type": "display_data",
     "data": {
      "image/png": "[encoded data removed]",
      "text/plain": [
       "<Figure size 648x432 with 6 Axes>"
      ]
     },
     "metadata": {
      "needs_background": "light"
     }
    }
   ],
   "metadata": {
    "execution": {
     "iopub.execute_input": "2022-01-09T20:17:57.499246Z",
     "iopub.status.busy": "2022-01-09T20:17:57.498200Z",
     "iopub.status.idle": "2022-01-09T20:17:58.668951Z",
     "shell.execute_reply": "2022-01-09T20:17:58.667740Z",
     "shell.execute_reply.started": "2022-01-09T20:07:52.691061Z"
    },
    "papermill": {
     "duration": 1.207759,
     "end_time": "2022-01-09T20:17:58.669125",
     "exception": false,
     "start_time": "2022-01-09T20:17:57.461366",
     "status": "completed"
    },
    "tags": []
   }
  },
  {
   "cell_type": "markdown",
   "source": [
    "We can somewhat make out that more Class 3 passengers died as opposed to Class 1 and Class 2. Infact, Class 1 has the highest \n",
    "survival rate."
   ],
   "metadata": {
    "papermill": {
     "duration": 0.036176,
     "end_time": "2022-01-09T20:17:58.742751",
     "exception": false,
     "start_time": "2022-01-09T20:17:58.706575",
     "status": "completed"
    },
    "tags": []
   }
  },
  {
   "cell_type": "code",
   "execution_count": 19,
   "source": [
    "sns.catplot(x='Age', y='Embarked', hue='Survived', row='Pclass', data=t_df)\n",
    "plt.show()"
   ],
   "outputs": [
    {
     "output_type": "display_data",
     "data": {
      "image/png": "[encoded data removed]",
      "text/plain": [
       "<Figure size 411.875x1080 with 3 Axes>"
      ]
     },
     "metadata": {
      "needs_background": "light"
     }
    }
   ],
   "metadata": {
    "execution": {
     "iopub.execute_input": "2022-01-09T20:17:58.824536Z",
     "iopub.status.busy": "2022-01-09T20:17:58.823441Z",
     "iopub.status.idle": "2022-01-09T20:18:40.070345Z",
     "shell.execute_reply": "2022-01-09T20:18:40.070865Z",
     "shell.execute_reply.started": "2022-01-09T20:07:53.804542Z"
    },
    "papermill": {
     "duration": 41.29158,
     "end_time": "2022-01-09T20:18:40.071055",
     "exception": false,
     "start_time": "2022-01-09T20:17:58.779475",
     "status": "completed"
    },
    "tags": []
   }
  },
  {
   "cell_type": "markdown",
   "source": [
    "The 3rd Class had the highest death rate."
   ],
   "metadata": {
    "papermill": {
     "duration": 0.036547,
     "end_time": "2022-01-09T20:18:40.144818",
     "exception": false,
     "start_time": "2022-01-09T20:18:40.108271",
     "status": "completed"
    },
    "tags": []
   }
  },
  {
   "cell_type": "code",
   "execution_count": 20,
   "source": [
    "#correlation \n",
    "c = t_df.corr()\n",
    "sns.heatmap(c, annot=True)\n",
    "plt.show()"
   ],
   "outputs": [
    {
     "output_type": "display_data",
     "data": {
      "image/png": "[encoded data removed]",
      "text/plain": [
       "<Figure size 432x288 with 2 Axes>"
      ]
     },
     "metadata": {
      "needs_background": "light"
     }
    }
   ],
   "metadata": {
    "execution": {
     "iopub.execute_input": "2022-01-09T20:18:40.408121Z",
     "iopub.status.busy": "2022-01-09T20:18:40.407021Z",
     "iopub.status.idle": "2022-01-09T20:18:40.788833Z",
     "shell.execute_reply": "2022-01-09T20:18:40.788273Z",
     "shell.execute_reply.started": "2022-01-09T20:08:33.745094Z"
    },
    "papermill": {
     "duration": 0.606863,
     "end_time": "2022-01-09T20:18:40.789000",
     "exception": false,
     "start_time": "2022-01-09T20:18:40.182137",
     "status": "completed"
    },
    "tags": []
   }
  },
  {
   "cell_type": "code",
   "execution_count": 21,
   "source": [
    "t_df.drop('Name', inplace=True, axis=1)\n",
    "test_df.drop('Name', inplace=True, axis=1)"
   ],
   "outputs": [],
   "metadata": {
    "execution": {
     "iopub.execute_input": "2022-01-09T20:18:40.953440Z",
     "iopub.status.busy": "2022-01-09T20:18:40.952468Z",
     "iopub.status.idle": "2022-01-09T20:18:40.955648Z",
     "shell.execute_reply": "2022-01-09T20:18:40.954990Z",
     "shell.execute_reply.started": "2022-01-09T20:08:34.305072Z"
    },
    "papermill": {
     "duration": 0.050218,
     "end_time": "2022-01-09T20:18:40.955796",
     "exception": false,
     "start_time": "2022-01-09T20:18:40.905578",
     "status": "completed"
    },
    "tags": []
   }
  },
  {
   "cell_type": "code",
   "execution_count": 22,
   "source": [
    "t_df.drop('Ticket', inplace=True, axis=1)\n",
    "t_df.drop('PassengerId', inplace=True, axis=1)\n",
    "test_df.drop('Ticket', inplace=True, axis=1)\n",
    "t_df\n",
    "test_df"
   ],
   "outputs": [
    {
     "output_type": "execute_result",
     "data": {
      "text/html": [
       "<div>\n",
       "<style scoped>\n",
       "    .dataframe tbody tr th:only-of-type {\n",
       "        vertical-align: middle;\n",
       "    }\n",
       "\n",
       "    .dataframe tbody tr th {\n",
       "        vertical-align: top;\n",
       "    }\n",
       "\n",
       "    .dataframe thead th {\n",
       "        text-align: right;\n",
       "    }\n",
       "</style>\n",
       "<table border=\"1\" class=\"dataframe\">\n",
       "  <thead>\n",
       "    <tr style=\"text-align: right;\">\n",
       "      <th></th>\n",
       "      <th>PassengerId</th>\n",
       "      <th>Pclass</th>\n",
       "      <th>Sex</th>\n",
       "      <th>Age</th>\n",
       "      <th>Embarked</th>\n",
       "    </tr>\n",
       "  </thead>\n",
       "  <tbody>\n",
       "    <tr>\n",
       "      <th>0</th>\n",
       "      <td>892</td>\n",
       "      <td>3</td>\n",
       "      <td>1</td>\n",
       "      <td>34.50000</td>\n",
       "      <td>2</td>\n",
       "    </tr>\n",
       "    <tr>\n",
       "      <th>1</th>\n",
       "      <td>893</td>\n",
       "      <td>3</td>\n",
       "      <td>0</td>\n",
       "      <td>47.00000</td>\n",
       "      <td>0</td>\n",
       "    </tr>\n",
       "    <tr>\n",
       "      <th>2</th>\n",
       "      <td>894</td>\n",
       "      <td>2</td>\n",
       "      <td>1</td>\n",
       "      <td>62.00000</td>\n",
       "      <td>2</td>\n",
       "    </tr>\n",
       "    <tr>\n",
       "      <th>3</th>\n",
       "      <td>895</td>\n",
       "      <td>3</td>\n",
       "      <td>1</td>\n",
       "      <td>27.00000</td>\n",
       "      <td>2</td>\n",
       "    </tr>\n",
       "    <tr>\n",
       "      <th>4</th>\n",
       "      <td>896</td>\n",
       "      <td>3</td>\n",
       "      <td>0</td>\n",
       "      <td>22.00000</td>\n",
       "      <td>2</td>\n",
       "    </tr>\n",
       "    <tr>\n",
       "      <th>...</th>\n",
       "      <td>...</td>\n",
       "      <td>...</td>\n",
       "      <td>...</td>\n",
       "      <td>...</td>\n",
       "      <td>...</td>\n",
       "    </tr>\n",
       "    <tr>\n",
       "      <th>413</th>\n",
       "      <td>1305</td>\n",
       "      <td>3</td>\n",
       "      <td>1</td>\n",
       "      <td>30.27259</td>\n",
       "      <td>2</td>\n",
       "    </tr>\n",
       "    <tr>\n",
       "      <th>414</th>\n",
       "      <td>1306</td>\n",
       "      <td>1</td>\n",
       "      <td>0</td>\n",
       "      <td>39.00000</td>\n",
       "      <td>2</td>\n",
       "    </tr>\n",
       "    <tr>\n",
       "      <th>415</th>\n",
       "      <td>1307</td>\n",
       "      <td>3</td>\n",
       "      <td>1</td>\n",
       "      <td>38.50000</td>\n",
       "      <td>2</td>\n",
       "    </tr>\n",
       "    <tr>\n",
       "      <th>416</th>\n",
       "      <td>1308</td>\n",
       "      <td>3</td>\n",
       "      <td>1</td>\n",
       "      <td>30.27259</td>\n",
       "      <td>2</td>\n",
       "    </tr>\n",
       "    <tr>\n",
       "      <th>417</th>\n",
       "      <td>1309</td>\n",
       "      <td>3</td>\n",
       "      <td>1</td>\n",
       "      <td>30.27259</td>\n",
       "      <td>2</td>\n",
       "    </tr>\n",
       "  </tbody>\n",
       "</table>\n",
       "<p>418 rows × 5 columns</p>\n",
       "</div>"
      ],
      "text/plain": [
       "     PassengerId  Pclass  Sex       Age  Embarked\n",
       "0            892       3    1  34.50000         2\n",
       "1            893       3    0  47.00000         0\n",
       "2            894       2    1  62.00000         2\n",
       "3            895       3    1  27.00000         2\n",
       "4            896       3    0  22.00000         2\n",
       "..           ...     ...  ...       ...       ...\n",
       "413         1305       3    1  30.27259         2\n",
       "414         1306       1    0  39.00000         2\n",
       "415         1307       3    1  38.50000         2\n",
       "416         1308       3    1  30.27259         2\n",
       "417         1309       3    1  30.27259         2\n",
       "\n",
       "[418 rows x 5 columns]"
      ]
     },
     "metadata": {},
     "execution_count": 22
    }
   ],
   "metadata": {
    "execution": {
     "iopub.execute_input": "2022-01-09T20:18:41.054096Z",
     "iopub.status.busy": "2022-01-09T20:18:41.049830Z",
     "iopub.status.idle": "2022-01-09T20:18:41.058440Z",
     "shell.execute_reply": "2022-01-09T20:18:41.057905Z",
     "shell.execute_reply.started": "2022-01-09T20:08:34.312921Z"
    },
    "papermill": {
     "duration": 0.062779,
     "end_time": "2022-01-09T20:18:41.058585",
     "exception": false,
     "start_time": "2022-01-09T20:18:40.995806",
     "status": "completed"
    },
    "tags": []
   }
  },
  {
   "cell_type": "markdown",
   "source": [
    "# Training the myModel"
   ],
   "metadata": {
    "papermill": {
     "duration": 0.03848,
     "end_time": "2022-01-09T20:18:41.136081",
     "exception": false,
     "start_time": "2022-01-09T20:18:41.097601",
     "status": "completed"
    },
    "tags": []
   }
  },
  {
   "cell_type": "code",
   "execution_count": 23,
   "source": [
    "from sklearn.myModel_selection import train_test_split\n",
    "from sklearn.preprocessing import MinMaxScaler\n",
    "from sklearn.linear_myModel import LogisticRegression\n",
    "from sklearn.neighbors import KNeighborsClassifier\n",
    "from sklearn.svm import SVC\n",
    "from sklearn.metrics import confusion_matrix, f1_score, accuracy_score, precision_score, recall_score, roc_auc_score\n",
    "\n",
    "X_train = t_df.drop('Survived', axis=1)\n",
    "Y_train = t_df['Survived']\n",
    "X_test = test_df.drop('PassengerId', axis=1).copy()\n",
    "\n",
    "#Logistic Regression\n",
    "logReg = LogisticRegression()\n",
    "logReg.fit(X_train, Y_train)\n",
    "Y_pred = logReg.predict(X_test)\n",
    "logRegModel = round(logReg.score(X_train, Y_train) * 100, 2)\n",
    "logRegModel\n",
    "\n",
    "#knc\n",
    "knc = KNeighborsClassifier(n_neighbors = 4)\n",
    "knc.fit(X_train, Y_train)\n",
    "Y_pred = knc.predict(X_test)\n",
    "acc_knc = round(knc.score(X_train, Y_train) * 100, 2)\n",
    "acc_knc\n",
    "\n",
    "#SVM\n",
    "svc = SVC()\n",
    "svc.fit(X_train, Y_train)\n",
    "Y_pred = svc.predict(X_test)\n",
    "acc_svc = round(svc.score(X_train, Y_train) * 100, 2)\n",
    "acc_svc\n",
    "\n",
    "print(Y_pred)"
   ],
   "outputs": [
    {
     "output_type": "stream",
     "name": "stdout",
     "text": [
      "[0 0 0 0 0 0 0 0 0 0 0 0 0 0 0 0 0 0 0 0 0 0 0 0 0 0 0 0 0 0 0 0 0 0 0 0 0\n",
      " 0 0 0 0 0 0 0 0 0 0 0 0 0 0 0 0 0 0 0 0 0 0 0 0 0 0 0 0 0 0 0 0 0 0 0 0 0\n",
      " 0 0 0 0 0 0 1 0 0 0 0 0 0 0 0 1 0 0 0 0 0 0 0 0 0 0 0 0 0 0 0 0 0 0 0 0 0\n",
      " 0 0 0 0 0 0 1 0 0 0 0 0 0 0 0 0 0 0 0 0 0 0 0 0 0 0 0 0 0 1 0 0 0 0 0 0 0\n",
      " 0 0 0 0 0 0 0 0 0 0 0 0 0 1 0 0 0 0 0 0 0 0 0 0 0 0 0 0 0 0 0 0 0 0 0 0 0\n",
      " 0 0 0 0 0 0 0 0 0 1 0 1 0 0 0 0 1 0 1 0 0 0 0 0 0 0 0 0 0 0 0 0 0 0 0 0 0\n",
      " 0 0 0 0 0 0 0 0 0 0 0 0 0 0 0 0 0 0 0 0 0 0 0 0 0 0 0 0 1 0 0 0 0 0 0 0 0\n",
      " 0 0 0 0 1 0 0 0 0 0 0 0 0 0 0 0 0 0 0 0 0 0 1 0 1 1 0 0 0 0 0 0 0 0 0 0 0\n",
      " 1 0 0 0 0 0 0 0 0 0 0 1 0 0 0 0 0 0 0 0 0 0 0 0 0 0 0 0 0 0 0 0 0 0 0 0 0\n",
      " 0 0 0 0 0 0 0 0 0 0 0 0 0 0 0 0 0 0 0 0 0 1 0 0 0 0 0 0 0 0 0 0 0 0 0 0 0\n",
      " 0 0 0 0 0 0 0 0 0 1 0 0 0 0 0 0 0 0 0 1 0 0 0 0 0 0 0 0 0 0 0 0 0 0 0 0 0\n",
      " 0 0 1 0 0 0 0 0 0 0 0]\n"
     ]
    }
   ],
   "metadata": {
    "execution": {
     "iopub.execute_input": "2022-01-09T20:18:41.225285Z",
     "iopub.status.busy": "2022-01-09T20:18:41.224427Z",
     "iopub.status.idle": "2022-01-09T20:18:41.556863Z",
     "shell.execute_reply": "2022-01-09T20:18:41.556102Z",
     "shell.execute_reply.started": "2022-01-09T20:17:25.523125Z"
    },
    "papermill": {
     "duration": 0.382406,
     "end_time": "2022-01-09T20:18:41.557037",
     "exception": false,
     "start_time": "2022-01-09T20:18:41.174631",
     "status": "completed"
    },
    "tags": []
   }
  },
  {
   "cell_type": "code",
   "execution_count": 24,
   "source": [
    "myModel = pd.DataFrame({'myModel':['Logistic Regression', 'knc', 'Support Vector Machines'],\n",
    "                     'Score': [logRegModel, acc_knc, acc_svc]})\n",
    "myModel.sort_values(by = 'Score', ascending = False)"
   ],
   "outputs": [
    {
     "output_type": "execute_result",
     "data": {
      "text/html": [
       "<div>\n",
       "<style scoped>\n",
       "    .dataframe tbody tr th:only-of-type {\n",
       "        vertical-align: middle;\n",
       "    }\n",
       "\n",
       "    .dataframe tbody tr th {\n",
       "        vertical-align: top;\n",
       "    }\n",
       "\n",
       "    .dataframe thead th {\n",
       "        text-align: right;\n",
       "    }\n",
       "</style>\n",
       "<table border=\"1\" class=\"dataframe\">\n",
       "  <thead>\n",
       "    <tr style=\"text-align: right;\">\n",
       "      <th></th>\n",
       "      <th>Model</th>\n",
       "      <th>Score</th>\n",
       "    </tr>\n",
       "  </thead>\n",
       "  <tbody>\n",
       "    <tr>\n",
       "      <th>1</th>\n",
       "      <td>KNN</td>\n",
       "      <td>83.61</td>\n",
       "    </tr>\n",
       "    <tr>\n",
       "      <th>0</th>\n",
       "      <td>Logistic Regression</td>\n",
       "      <td>79.01</td>\n",
       "    </tr>\n",
       "    <tr>\n",
       "      <th>2</th>\n",
       "      <td>Support Vector Machines</td>\n",
       "      <td>63.41</td>\n",
       "    </tr>\n",
       "  </tbody>\n",
       "</table>\n",
       "</div>"
      ],
      "text/plain": [
       "                     Model  Score\n",
       "1                      KNN  83.61\n",
       "0      Logistic Regression  79.01\n",
       "2  Support Vector Machines  63.41"
      ]
     },
     "metadata": {},
     "execution_count": 24
    }
   ],
   "metadata": {
    "execution": {
     "iopub.execute_input": "2022-01-09T20:18:41.648645Z",
     "iopub.status.busy": "2022-01-09T20:18:41.647917Z",
     "iopub.status.idle": "2022-01-09T20:18:41.652708Z",
     "shell.execute_reply": "2022-01-09T20:18:41.651914Z",
     "shell.execute_reply.started": "2022-01-09T20:08:34.663921Z"
    },
    "papermill": {
     "duration": 0.055637,
     "end_time": "2022-01-09T20:18:41.652860",
     "exception": false,
     "start_time": "2022-01-09T20:18:41.597223",
     "status": "completed"
    },
    "tags": []
   }
  },
  {
   "cell_type": "code",
   "execution_count": 25,
   "source": [
    "prediction = pd.DataFrame({'PassengerId' : test_df['PassengerId'], 'Survived': Y_pred})\n",
    "prediction"
   ],
   "outputs": [
    {
     "output_type": "execute_result",
     "data": {
      "text/html": [
       "<div>\n",
       "<style scoped>\n",
       "    .dataframe tbody tr th:only-of-type {\n",
       "        vertical-align: middle;\n",
       "    }\n",
       "\n",
       "    .dataframe tbody tr th {\n",
       "        vertical-align: top;\n",
       "    }\n",
       "\n",
       "    .dataframe thead th {\n",
       "        text-align: right;\n",
       "    }\n",
       "</style>\n",
       "<table border=\"1\" class=\"dataframe\">\n",
       "  <thead>\n",
       "    <tr style=\"text-align: right;\">\n",
       "      <th></th>\n",
       "      <th>PassengerId</th>\n",
       "      <th>Survived</th>\n",
       "    </tr>\n",
       "  </thead>\n",
       "  <tbody>\n",
       "    <tr>\n",
       "      <th>0</th>\n",
       "      <td>892</td>\n",
       "      <td>0</td>\n",
       "    </tr>\n",
       "    <tr>\n",
       "      <th>1</th>\n",
       "      <td>893</td>\n",
       "      <td>0</td>\n",
       "    </tr>\n",
       "    <tr>\n",
       "      <th>2</th>\n",
       "      <td>894</td>\n",
       "      <td>0</td>\n",
       "    </tr>\n",
       "    <tr>\n",
       "      <th>3</th>\n",
       "      <td>895</td>\n",
       "      <td>0</td>\n",
       "    </tr>\n",
       "    <tr>\n",
       "      <th>4</th>\n",
       "      <td>896</td>\n",
       "      <td>0</td>\n",
       "    </tr>\n",
       "    <tr>\n",
       "      <th>...</th>\n",
       "      <td>...</td>\n",
       "      <td>...</td>\n",
       "    </tr>\n",
       "    <tr>\n",
       "      <th>413</th>\n",
       "      <td>1305</td>\n",
       "      <td>0</td>\n",
       "    </tr>\n",
       "    <tr>\n",
       "      <th>414</th>\n",
       "      <td>1306</td>\n",
       "      <td>0</td>\n",
       "    </tr>\n",
       "    <tr>\n",
       "      <th>415</th>\n",
       "      <td>1307</td>\n",
       "      <td>0</td>\n",
       "    </tr>\n",
       "    <tr>\n",
       "      <th>416</th>\n",
       "      <td>1308</td>\n",
       "      <td>0</td>\n",
       "    </tr>\n",
       "    <tr>\n",
       "      <th>417</th>\n",
       "      <td>1309</td>\n",
       "      <td>0</td>\n",
       "    </tr>\n",
       "  </tbody>\n",
       "</table>\n",
       "<p>418 rows × 2 columns</p>\n",
       "</div>"
      ],
      "text/plain": [
       "     PassengerId  Survived\n",
       "0            892         0\n",
       "1            893         0\n",
       "2            894         0\n",
       "3            895         0\n",
       "4            896         0\n",
       "..           ...       ...\n",
       "413         1305         0\n",
       "414         1306         0\n",
       "415         1307         0\n",
       "416         1308         0\n",
       "417         1309         0\n",
       "\n",
       "[418 rows x 2 columns]"
      ]
     },
     "metadata": {},
     "execution_count": 25
    }
   ],
   "metadata": {
    "execution": {
     "iopub.execute_input": "2022-01-09T20:18:41.744625Z",
     "iopub.status.busy": "2022-01-09T20:18:41.743763Z",
     "iopub.status.idle": "2022-01-09T20:18:41.748241Z",
     "shell.execute_reply": "2022-01-09T20:18:41.748919Z",
     "shell.execute_reply.started": "2022-01-09T20:08:34.666091Z"
    },
    "papermill": {
     "duration": 0.056411,
     "end_time": "2022-01-09T20:18:41.749132",
     "exception": false,
     "start_time": "2022-01-09T20:18:41.692721",
     "status": "completed"
    },
    "tags": []
   }
  }
 ],
 "metadata": {
  "kernelspec": {
   "display_name": "Python 3",
   "language": "python",
   "name": "python3"
  },
  "language_info": {
   "codemirror_mode": {
    "name": "ipython",
    "version": 3
   },
   "file_extension": ".py",
   "mimetype": "text/x-python",
   "name": "python",
   "nbconvert_exporter": "python",
   "pygments_lexer": "ipython3",
   "version": "3.7.12"
  },
  "papermill": {
   "default_parameters": {},
   "duration": 60.792837,
   "end_time": "2022-01-09T20:18:42.501168",
   "environment_variables": {},
   "exception": null,
   "input_path": "__notebook__.ipynb",
   "output_path": "__notebook__.ipynb",
   "parameters": {},
   "start_time": "2022-01-09T20:17:41.708331",
   "version": "2.3.3"
  }
 },
 "nbformat": 4,
 "nbformat_minor": 5
}